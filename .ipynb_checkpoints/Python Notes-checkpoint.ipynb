{
 "cells": [
  {
   "cell_type": "markdown",
   "metadata": {},
   "source": [
    "# Lesson - Python Data Science Toolbox Part 2"
   ]
  },
  {
   "cell_type": "markdown",
   "metadata": {},
   "source": [
    "### <center>List Comprehension </center>\n",
    "\n",
    "#### Basic\n",
    "* [output expression for iterator variable in iterable]\n",
    "* [x ** 2 for x in list_name ]\n",
    "\n",
    "#### Nested\n",
    "* [[output expression] for iterator variable in iterable]\n",
    "* [[col for col in range(0,5)] for row in range(0,5)]\n",
    "\n",
    "#### Conditional 1 (begin)\n",
    "* [output expression + conditional on output for iterator variable in iterable]\n",
    "* [member if len(member) >= 7 else '' for member in fellowship]\n",
    "\n",
    "#### Conditional 2 (end)\n",
    "* [member for member in fellowship if len(member) >= 7 ]\n",
    "* [iterator variable for iterator variable in iterable + conditional on iterable] \n",
    "\n",
    "#### Conditional (begin and end)\n",
    "* [output expression + conditional on output for iterator variable in iterable + conditional on iterable] \n",
    "\n",
    "#### Dict comprehension \n",
    "* {key: value for iterator variable in iterable}\n",
    "* {member:len(member) for member in fellowship}\n",
    "\n",
    "\n",
    "\n"
   ]
  },
  {
   "cell_type": "markdown",
   "metadata": {},
   "source": [
    "### <center>Generators </center>\n",
    "#### Generators as iterables for comphrensions \n",
    "* (iterator variable for iterator variable in iterable)\n",
    "* (num for num in range(0,31))\n",
    "* A generator function is defined as you do a regular function, but whenever it generates a value, it uses the keyword yield instead of return.\n",
    "\n",
    "#### Generators for large data limits\n",
    "* can use a generator to load data line by line (in chunks)\n",
    "* also works with streaming data \n",
    "*  ex: def num_sequence(n): / i=0/ while i < n: yield  i / i+=1\n"
   ]
  },
  {
   "cell_type": "markdown",
   "metadata": {},
   "source": [
    "### <center> Context Managers </center>\n",
    "* For example, the command **with open('datacamp.csv') as datacamp** binds the csv file **'datacamp.csv'** as **datacamp** in the context manager. Here, the with statement is the context manager, and its purpose is to ensure that resources are efficiently allocated when opening a connection to a file."
   ]
  },
  {
   "cell_type": "code",
   "execution_count": null,
   "metadata": {},
   "outputs": [],
   "source": [
    "# Define read_large_file()\n",
    "def read_large_file(file_object):\n",
    "    \"\"\"A generator function to read a large file lazily.\"\"\"\n",
    "\n",
    "    # Loop indefinitely until the end of the file\n",
    "    while True:\n",
    "\n",
    "        # Read a line from the file: data\n",
    "        data = file_object.readline()\n",
    "\n",
    "        # Break if this is the end of the file\n",
    "        if not data:\n",
    "            break\n",
    "\n",
    "        # Yield the line of data\n",
    "        yield data\n",
    "        \n",
    "# Open a connection to the file\n",
    "with open('world_dev_ind.csv') as file:\n",
    "\n",
    "    # Create a generator object for the file: gen_file\n",
    "    gen_file = read_large_file(file)\n",
    "\n",
    "    # Print the first three lines of the file\n",
    "    print(next(gen_file))\n",
    "    print(next(gen_file))\n",
    "    print(next(gen_file))"
   ]
  }
 ],
 "metadata": {
  "kernelspec": {
   "display_name": "Python 3",
   "language": "python",
   "name": "python3"
  },
  "language_info": {
   "codemirror_mode": {
    "name": "ipython",
    "version": 3
   },
   "file_extension": ".py",
   "mimetype": "text/x-python",
   "name": "python",
   "nbconvert_exporter": "python",
   "pygments_lexer": "ipython3",
   "version": "3.7.2"
  }
 },
 "nbformat": 4,
 "nbformat_minor": 2
}
